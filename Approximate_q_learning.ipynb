{
  "nbformat": 4,
  "nbformat_minor": 0,
  "metadata": {
    "colab": {
      "provenance": []
    },
    "kernelspec": {
      "name": "python3",
      "display_name": "Python 3"
    },
    "language_info": {
      "name": "python"
    }
  },
  "cells": [
    {
      "cell_type": "markdown",
      "source": [
        "In this notebook you will teach a pytorch neural network to do Q-learning.\n",
        "\n"
      ],
      "metadata": {
        "id": "xh8X_-ZQCROJ"
      }
    },
    {
      "cell_type": "code",
      "source": [
        "# # in google colab uncomment this\n",
        "\n",
        "import os\n",
        "\n",
        "os.system('apt-get install -y xvfb')\n",
        "os.system('wget https://raw.githubusercontent.com/yandexdataschool/Practical_DL/fall18/xvfb -O ../xvfb')\n",
        "os.system('apt-get install -y python-opengl ffmpeg')\n",
        "os.system('pip install pyglet==1.2.4')\n",
        "\n",
        "# XVFB will be launched if you run on a server\n",
        "import os\n",
        "if type(os.environ.get(\"DISPLAY\")) is not str or len(os.environ.get(\"DISPLAY\")) == 0:\n",
        "    !bash ../xvfb start\n",
        "    os.environ['DISPLAY'] = ':1'"
      ],
      "metadata": {
        "colab": {
          "base_uri": "https://localhost:8080/"
        },
        "id": "gf8tO7LwCg79",
        "outputId": "fda43b97-421a-4eed-eb5a-2ad36d1ad22a"
      },
      "execution_count": 1,
      "outputs": [
        {
          "output_type": "stream",
          "name": "stdout",
          "text": [
            "Starting virtual X frame buffer: Xvfb.\n"
          ]
        }
      ]
    },
    {
      "cell_type": "code",
      "source": [
        "!pip install gym==0.15.3"
      ],
      "metadata": {
        "colab": {
          "base_uri": "https://localhost:8080/"
        },
        "id": "nMzc-ml9nlL4",
        "outputId": "25059bea-540b-4402-ab1a-cd4e1a16c4ab"
      },
      "execution_count": 2,
      "outputs": [
        {
          "output_type": "stream",
          "name": "stdout",
          "text": [
            "Looking in indexes: https://pypi.org/simple, https://us-python.pkg.dev/colab-wheels/public/simple/\n",
            "Requirement already satisfied: gym==0.15.3 in /usr/local/lib/python3.8/dist-packages (0.15.3)\n",
            "Requirement already satisfied: six in /usr/local/lib/python3.8/dist-packages (from gym==0.15.3) (1.15.0)\n",
            "Requirement already satisfied: scipy in /usr/local/lib/python3.8/dist-packages (from gym==0.15.3) (1.7.3)\n",
            "Requirement already satisfied: numpy>=1.10.4 in /usr/local/lib/python3.8/dist-packages (from gym==0.15.3) (1.21.6)\n",
            "Requirement already satisfied: pyglet<=1.3.2,>=1.2.0 in /usr/local/lib/python3.8/dist-packages (from gym==0.15.3) (1.2.4)\n",
            "Requirement already satisfied: cloudpickle~=1.2.0 in /usr/local/lib/python3.8/dist-packages (from gym==0.15.3) (1.2.2)\n"
          ]
        }
      ]
    },
    {
      "cell_type": "code",
      "source": [
        "import gym\n",
        "import numpy as np\n",
        "import pandas as pd\n",
        "import matplotlib.pyplot as plt\n",
        "%matplotlib inline"
      ],
      "metadata": {
        "id": "5EEUJka5ClMh"
      },
      "execution_count": 3,
      "outputs": []
    },
    {
      "cell_type": "code",
      "source": [
        "!pip install pygame"
      ],
      "metadata": {
        "colab": {
          "base_uri": "https://localhost:8080/"
        },
        "id": "j_aysbccC47x",
        "outputId": "9931609d-a20b-4899-d03f-ca85c2c8f574"
      },
      "execution_count": 4,
      "outputs": [
        {
          "output_type": "stream",
          "name": "stdout",
          "text": [
            "Looking in indexes: https://pypi.org/simple, https://us-python.pkg.dev/colab-wheels/public/simple/\n",
            "Requirement already satisfied: pygame in /usr/local/lib/python3.8/dist-packages (2.1.3)\n"
          ]
        }
      ]
    },
    {
      "cell_type": "code",
      "source": [
        "env = gym.make(\"CartPole-v0\").env\n",
        "env.reset()\n",
        "n_actions = env.action_space.n\n",
        "state_dim = env.observation_space.shape\n",
        "\n",
        "plt.imshow(env.render(\"rgb_array\"))\n",
        "env.close()"
      ],
      "metadata": {
        "colab": {
          "base_uri": "https://localhost:8080/",
          "height": 269
        },
        "id": "kEIlVB0qCmUW",
        "outputId": "48dfc044-0ce2-42e1-cab5-7383e2c6cebe"
      },
      "execution_count": 5,
      "outputs": [
        {
          "output_type": "display_data",
          "data": {
            "text/plain": [
              "<Figure size 432x288 with 1 Axes>"
            ],
            "image/png": "[encoded data removed]"
          },
          "metadata": {
            "needs_background": "light"
          }
        }
      ]
    },
    {
      "cell_type": "markdown",
      "source": [
        "# Approximate Q-learning: building the network\n",
        "\n",
        "To train a neural network policy one must have a neural network policy. Let's build it.\n",
        "\n",
        "\n",
        "Since we're working with a pre-extracted features (cart positions, angles and velocities), we don't need a complicated network yet. In fact, let's build something like this for starters:\n",
        "\n",
        "![img](https://raw.githubusercontent.com/yandexdataschool/Practical_RL/master/yet_another_week/_resource/qlearning_scheme.png)\n",
        "\n",
        "For your first run, please only use linear layers (nn.Linear) and activations. Stuff like batch normalization or dropout may ruin everything if used haphazardly. \n",
        "\n",
        "Also please avoid using nonlinearities like sigmoid & tanh: agent's observations are not normalized so sigmoids may become saturated from init.\n",
        "\n",
        "Ideally you should start small with maybe 1-2 hidden layers with < 200 neurons and then increase network size if agent doesn't beat the target score."
      ],
      "metadata": {
        "id": "e2P5uNmgCoJW"
      }
    },
    {
      "cell_type": "code",
      "source": [
        "import torch\n",
        "import torch.nn as nn\n",
        "import torch.nn.functional as F"
      ],
      "metadata": {
        "id": "zR6Deya1DLlL"
      },
      "execution_count": 6,
      "outputs": []
    },
    {
      "cell_type": "code",
      "source": [
        "network = nn.Sequential()\n",
        "\n",
        "network.add_module('layer1', nn.Linear(state_dim[0], 64))\n",
        "network.add_module('non-linear-1', nn.ReLU())\n",
        "network.add_module('layer2', nn.Linear(64, 64))\n",
        "network.add_module('non-linear-2', nn.ReLU())\n",
        "network.add_module('layer3', nn.Linear(64, n_actions))\n",
        "\n",
        "# hint: use state_dim[0] as input size"
      ],
      "metadata": {
        "id": "RHrG8J44DL2D"
      },
      "execution_count": 7,
      "outputs": []
    },
    {
      "cell_type": "code",
      "source": [
        "import random\n",
        "def get_action(state, epsilon=0):\n",
        "    \"\"\"\n",
        "    sample actions with epsilon-greedy policy\n",
        "    recap: with p = epsilon pick random action, else pick action with highest Q(s,a)\n",
        "    \"\"\"\n",
        "    state = torch.tensor(state[None], dtype=torch.float32)\n",
        "    q_values = network(state).detach().numpy()\n",
        "    if epsilon > np.random.uniform(0, 1):\n",
        "      chosen_action = random.choice([0, 1])\n",
        "    else:\n",
        "      chosen_action = np.argmax(q_values)\n",
        "    return int(chosen_action)"
      ],
      "metadata": {
        "id": "eYt3qsEwD7QS"
      },
      "execution_count": 8,
      "outputs": []
    },
    {
      "cell_type": "code",
      "source": [
        "s = env.reset()\n",
        "assert tuple(network(torch.tensor([s]*3, dtype=torch.float32)).size()) == (\n",
        "    3, n_actions), \"please make sure your model maps state s -> [Q(s,a0), ..., Q(s, a_last)]\"\n",
        "assert isinstance(list(network.modules(\n",
        "))[-1], nn.Linear), \"please make sure you predict q-values without nonlinearity (ignore if you know what you're doing)\"\n",
        "assert isinstance(get_action(\n",
        "    s), int), \"get_action(s) must return int, not %s. try int(action)\" % (type(get_action(s)))\n",
        "\n",
        "# test epsilon-greedy exploration\n",
        "for eps in [0., 0.1, 0.5, 1.0]:\n",
        "    state_frequencies = np.bincount(\n",
        "        [get_action(s, epsilon=eps) for i in range(10000)], minlength=n_actions)\n",
        "    best_action = state_frequencies.argmax()\n",
        "    assert abs(state_frequencies[best_action] -\n",
        "               10000 * (1 - eps + eps / n_actions)) < 200\n",
        "    for other_action in range(n_actions):\n",
        "        if other_action != best_action:\n",
        "            assert abs(state_frequencies[other_action] -\n",
        "                       10000 * (eps / n_actions)) < 200\n",
        "    print('e=%.1f tests passed' % eps)"
      ],
      "metadata": {
        "colab": {
          "base_uri": "https://localhost:8080/"
        },
        "id": "zBFL7meIMwcx",
        "outputId": "8344c0cc-97b8-47f4-9b8e-9eb72452a181"
      },
      "execution_count": 9,
      "outputs": [
        {
          "output_type": "stream",
          "name": "stderr",
          "text": [
            "<ipython-input-9-a33e8fbd8be3>:2: UserWarning: Creating a tensor from a list of numpy.ndarrays is extremely slow. Please consider converting the list to a single numpy.ndarray with numpy.array() before converting to a tensor. (Triggered internally at ../torch/csrc/utils/tensor_new.cpp:230.)\n",
            "  assert tuple(network(torch.tensor([s]*3, dtype=torch.float32)).size()) == (\n"
          ]
        },
        {
          "output_type": "stream",
          "name": "stdout",
          "text": [
            "e=0.0 tests passed\n",
            "e=0.1 tests passed\n",
            "e=0.5 tests passed\n",
            "e=1.0 tests passed\n"
          ]
        }
      ]
    },
    {
      "cell_type": "markdown",
      "source": [
        "### Q-learning via gradient descent\n",
        "\n",
        "We shall now train our agent's Q-function by minimizing the TD loss:\n",
        "$$ L = { 1 \\over N} \\sum_i (Q_{\\theta}(s,a) - [r(s,a) + \\gamma \\cdot max_{a'} Q_{-}(s', a')]) ^2 $$\n",
        "\n",
        "\n",
        "Where\n",
        "* $s, a, r, s'$ are current state, action, reward and next state respectively\n",
        "* $\\gamma$ is a discount factor defined two cells above.\n",
        "\n",
        "The tricky part is with  $Q_{-}(s',a')$. From an engineering standpoint, it's the same as $Q_{\\theta}$ - the output of your neural network policy. However, when doing gradient descent, __we won't propagate gradients through it__ to make training more stable (see lectures).\n",
        "\n",
        "To do so, we shall use `x.detach()` function which basically says \"consider this thing constant when doingbackprop\"."
      ],
      "metadata": {
        "id": "EFPAsWR8M9c1"
      }
    },
    {
      "cell_type": "code",
      "source": [
        "def to_one_hot(y_tensor, n_dims=None):\n",
        "    \"\"\" helper: take an integer vector and convert it to 1-hot matrix. \"\"\"\n",
        "    y_tensor = y_tensor.type(torch.LongTensor).view(-1, 1)\n",
        "    n_dims = n_dims if n_dims is not None else int(torch.max(y_tensor)) + 1\n",
        "    y_one_hot = torch.zeros(\n",
        "        y_tensor.size()[0], n_dims).scatter_(1, y_tensor, 1)\n",
        "    return y_one_hot\n",
        "\n",
        "\n",
        "def where(cond, x_1, x_2):\n",
        "    \"\"\" helper: like np.where but in pytorch. \"\"\"\n",
        "    return (cond * x_1) + ((1-cond) * x_2)"
      ],
      "metadata": {
        "id": "ZtO9d6CaM_N-"
      },
      "execution_count": 10,
      "outputs": []
    },
    {
      "cell_type": "code",
      "source": [
        "def compute_td_loss(states, actions, rewards, next_states, is_done, gamma=0.99, check_shapes=False):\n",
        "    \"\"\" Compute td loss using torch operations only. Use the formula above. \"\"\"\n",
        "    states = torch.tensor(\n",
        "        states, dtype=torch.float32)    # shape: [batch_size, state_size]\n",
        "    actions = torch.tensor(actions, dtype=torch.int32)    # shape: [batch_size]\n",
        "    rewards = torch.tensor(rewards, dtype=torch.float32)  # shape: [batch_size]\n",
        "    # shape: [batch_size, state_size]\n",
        "    next_states = torch.tensor(next_states, dtype=torch.float32)\n",
        "    is_done = torch.tensor(is_done, dtype=torch.float32)  # shape: [batch_size]\n",
        "\n",
        "    # get q-values for all actions in current states\n",
        "    predicted_qvalues = network(states)\n",
        "\n",
        "    # select q-values for chosen actions\n",
        "    predicted_qvalues_for_actions = torch.sum(\n",
        "        predicted_qvalues * to_one_hot(actions, n_actions), dim=1)\n",
        "\n",
        "    # compute q-values for all actions in next states\n",
        "    predicted_next_qvalues = network(next_states) \n",
        "\n",
        "    # compute V*(next_states) using predicted next q-values\n",
        "    next_state_values =  torch.max(predicted_next_qvalues, dim = -1)[0]\n",
        "    assert next_state_values.dtype == torch.float32\n",
        "\n",
        "    # compute \"target q-values\" for loss - it's what's inside square parentheses in the above formula.\n",
        "    target_qvalues_for_actions =  rewards + gamma * next_state_values\n",
        "    # at the last state we shall use simplified formula: Q(s,a) = r(s,a) since s' doesn't exist\n",
        "    target_qvalues_for_actions = where(\n",
        "        is_done, rewards, target_qvalues_for_actions)\n",
        "\n",
        "    # mean squared error loss to minimize\n",
        "    loss = torch.mean((predicted_qvalues_for_actions -\n",
        "                       target_qvalues_for_actions.detach()) ** 2)\n",
        "\n",
        "    if check_shapes:\n",
        "        assert predicted_next_qvalues.data.dim(\n",
        "        ) == 2, \"make sure you predicted q-values for all actions in next state\"\n",
        "        assert next_state_values.data.dim(\n",
        "        ) == 1, \"make sure you computed V(s') as maximum over just the actions axis and not all axes\"\n",
        "        assert target_qvalues_for_actions.data.dim(\n",
        "        ) == 1, \"there's something wrong with target q-values, they must be a vector\"\n",
        "\n",
        "    return loss"
      ],
      "metadata": {
        "id": "NF6j85WVNDYn"
      },
      "execution_count": 11,
      "outputs": []
    },
    {
      "cell_type": "code",
      "source": [
        "# sanity checks\n",
        "s = env.reset()\n",
        "a = env.action_space.sample()\n",
        "next_s, r, done, _ = env.step(a)\n",
        "loss = compute_td_loss([s], [a], [r], [next_s], [done], check_shapes=True)\n",
        "loss.backward()\n",
        "\n",
        "assert len(loss.size()) == 0, \"you must return scalar loss - mean over batch\"\n",
        "assert np.any(next(network.parameters()).grad.detach().numpy() !=\n",
        "              0), \"loss must be differentiable w.r.t. network weights\""
      ],
      "metadata": {
        "id": "X1_GB4K_NQqs"
      },
      "execution_count": 12,
      "outputs": []
    },
    {
      "cell_type": "markdown",
      "source": [
        "### Playing the game"
      ],
      "metadata": {
        "id": "a1Weh9dFSFIG"
      }
    },
    {
      "cell_type": "code",
      "source": [
        "opt = torch.optim.Adam(network.parameters(), lr=1e-4)\n",
        "epsilon = 0.5"
      ],
      "metadata": {
        "id": "Pcg2TM0BSHgt"
      },
      "execution_count": 13,
      "outputs": []
    },
    {
      "cell_type": "code",
      "source": [
        "def generate_session(env, t_max=1000, epsilon=0, train=False):\n",
        "    \"\"\"play env with approximate q-learning agent and train it at the same time\"\"\"\n",
        "    total_reward = 0\n",
        "    s = env.reset()\n",
        "\n",
        "    for t in range(t_max):\n",
        "        a = get_action(s, epsilon=epsilon)\n",
        "        next_s, r, done, _ = env.step(a)\n",
        "\n",
        "        if train:\n",
        "            opt.zero_grad()\n",
        "            compute_td_loss([s], [a], [r], [next_s], [done]).backward()\n",
        "            opt.step()\n",
        "\n",
        "        total_reward += r\n",
        "        s = next_s\n",
        "        if done:\n",
        "            break\n",
        "\n",
        "    return total_reward"
      ],
      "metadata": {
        "id": "ytl0DuWQSKaU"
      },
      "execution_count": 20,
      "outputs": []
    },
    {
      "cell_type": "code",
      "source": [
        "for i in range(1000):\n",
        "    session_rewards = [generate_session(env, epsilon=epsilon, train=True) for _ in range(100)]\n",
        "    print(\"epoch #{}\\tmean reward = {:.3f}\\tepsilon = {:.3f}\".format(i, np.mean(session_rewards), epsilon))\n",
        "    epsilon *= 0.99\n",
        "    assert epsilon >= 1e-4, \"Make sure epsilon is always nonzero during training\"\n",
        "    if np.mean(session_rewards) > 300:\n",
        "        print(\"You Win!\")\n",
        "        break"
      ],
      "metadata": {
        "colab": {
          "base_uri": "https://localhost:8080/"
        },
        "id": "MtcsYf2VSLjs",
        "outputId": "4b353a76-a180-4ae5-d8fe-309ecfa74e68"
      },
      "execution_count": 27,
      "outputs": [
        {
          "output_type": "stream",
          "name": "stdout",
          "text": [
            "epoch #0\tmean reward = 169.890\tepsilon = 0.397\n",
            "epoch #1\tmean reward = 167.620\tepsilon = 0.393\n",
            "epoch #2\tmean reward = 151.410\tepsilon = 0.389\n",
            "epoch #3\tmean reward = 168.230\tepsilon = 0.385\n",
            "epoch #4\tmean reward = 130.230\tepsilon = 0.381\n",
            "epoch #5\tmean reward = 153.260\tepsilon = 0.377\n",
            "epoch #6\tmean reward = 93.490\tepsilon = 0.374\n",
            "epoch #7\tmean reward = 38.640\tepsilon = 0.370\n",
            "epoch #8\tmean reward = 35.850\tepsilon = 0.366\n",
            "epoch #9\tmean reward = 214.800\tepsilon = 0.362\n",
            "epoch #10\tmean reward = 233.890\tepsilon = 0.359\n",
            "epoch #11\tmean reward = 367.990\tepsilon = 0.355\n",
            "You Win!\n"
          ]
        }
      ]
    },
    {
      "cell_type": "markdown",
      "source": [
        "### How to interpret results\n",
        "\n",
        "\n",
        "Welcome to the f.. world of deep f...n reinforcement learning. Don't expect agent's reward to smoothly go up. Hope for it to go increase eventually. If it deems you worthy.\n",
        "\n",
        "Seriously though,\n",
        "* __ mean reward__ is the average reward per game. For a correct implementation it may stay low for some 10 epochs, then start growing while oscilating insanely and converges by ~50-100 steps depending on the network architecture. \n",
        "* If it never reaches target score by the end of for loop, try increasing the number of hidden neurons or look at the epsilon.\n",
        "* __ epsilon__ - agent's willingness to explore. If you see that agent's already at < 0.01 epsilon before it's is at least 200, just reset it back to 0.1 - 0.5."
      ],
      "metadata": {
        "id": "LfIlnyplS1hc"
      }
    },
    {
      "cell_type": "markdown",
      "source": [
        "### Record videos\n",
        "\n",
        "As usual, we now use `gym.wrappers.Monitor` to record a video of our agent playing the game. Unlike our previous attempts with state binarization, this time we expect our agent to act ~~(or fail)~~ more smoothly since there's no more binarization error at play.\n",
        "\n",
        "As you already did with tabular q-learning, we set epsilon=0 for final evaluation to prevent agent from exploring himself to death."
      ],
      "metadata": {
        "id": "CggOKEKUS3J4"
      }
    },
    {
      "cell_type": "code",
      "source": [
        "# Record sessions\n",
        "\n",
        "import gym.wrappers\n",
        "\n",
        "with gym.wrappers.Monitor(gym.make(\"CartPole-v0\"), directory=\"videos\", force=True) as env_monitor:\n",
        "    sessions = [generate_session(env_monitor, epsilon=0, train=False) for _ in range(100)]"
      ],
      "metadata": {
        "id": "TSv0VEQtnPC-"
      },
      "execution_count": 28,
      "outputs": []
    },
    {
      "cell_type": "code",
      "source": [
        "# Show video. This may not work in some setups. If it doesn't\n",
        "# work for you, you can download the videos and view them locally.\n",
        "import sys\n",
        "from pathlib import Path\n",
        "from base64 import b64encode\n",
        "from IPython.display import HTML\n",
        "\n",
        "video_paths = sorted([s for s in Path('videos').iterdir() if s.suffix == '.mp4'])\n",
        "video_path = video_paths[-1]  # You can also try other indices\n",
        "\n",
        "if 'google.colab' in sys.modules:\n",
        "    # https://stackoverflow.com/a/57378660/1214547\n",
        "    with video_path.open('rb') as fp:\n",
        "        mp4 = fp.read()\n",
        "    data_url = 'data:video/mp4;base64,' + b64encode(mp4).decode()\n",
        "else:\n",
        "    data_url = str(video_path)\n",
        "\n",
        "HTML(\"\"\"\n",
        "<video width=\"640\" height=\"480\" controls>\n",
        "  <source src=\"{}\" type=\"video/mp4\">\n",
        "</video>\n",
        "\"\"\".format(data_url))"
      ],
      "metadata": {
        "colab": {
          "base_uri": "https://localhost:8080/",
          "height": 901
        },
        "id": "PFZ11z-Opgl4",
        "outputId": "259ff650-0a0e-4e49-c7a5-847cce1e686d"
      },
      "execution_count": 30,
      "outputs": [
        {
          "output_type": "execute_result",
          "data": {
            "text/plain": [
              "<IPython.core.display.HTML object>"
            ],
            "text/html": [
              "\n",
              "<video width=\"840\" height=\"880\" controls>\n",
              "  <source src=\"data:video/mp4;base64,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\" type=\"video/mp4\">\n",
              "</video>\n"
            ]
          },
          "metadata": {},
          "execution_count": 30
        }
      ]
    }
  ]
}