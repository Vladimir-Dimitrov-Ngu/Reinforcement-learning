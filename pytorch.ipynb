{
  "nbformat": 4,
  "nbformat_minor": 0,
  "metadata": {
    "colab": {
      "provenance": []
    },
    "kernelspec": {
      "name": "python3",
      "display_name": "Python 3"
    },
    "language_info": {
      "name": "python"
    }
  },
  "cells": [
    {
      "cell_type": "code",
      "source": [
        "from IPython.display import clear_output"
      ],
      "metadata": {
        "id": "7VS1lwWCcCvP"
      },
      "execution_count": 1,
      "outputs": []
    },
    {
      "cell_type": "code",
      "source": [
        "# if running in colab, execute this:\n",
        "!wget https://raw.githubusercontent.com/yandexdataschool/Practical_RL/74eff0033306bdcc24b799d6b311baa408245257/week04_%5Brecap%5D_deep_learning/notmnist.py -O notmnist.py\n",
        "!wget http://yaroslavvb.com/upload/notMNIST/notMNIST_small.tar.gz\n",
        "# !pip3 install torch==1.0.0\n",
        "# !pip3 uninstall -y Pillow\n",
        "# !pip3 install Pillow==5.3.0\n",
        "clear_output()"
      ],
      "metadata": {
        "id": "QY8N3IXkcGFA"
      },
      "execution_count": 2,
      "outputs": []
    },
    {
      "cell_type": "code",
      "source": [
        "!wget http://yaroslavvb.com/upload/notMNIST/notMNIST_small.tar.gz\n",
        "clear_output()"
      ],
      "metadata": {
        "colab": {
          "base_uri": "https://localhost:8080/"
        },
        "id": "2gnerOwSWJzs",
        "outputId": "f47ddc0c-394e-45f2-934b-3ba768aaf6a8"
      },
      "execution_count": 3,
      "outputs": [
        {
          "output_type": "stream",
          "name": "stdout",
          "text": [
            "--2023-02-13 06:23:49--  http://yaroslavvb.com/upload/notMNIST/notMNIST_small.tar.gz\n",
            "Resolving yaroslavvb.com (yaroslavvb.com)... 129.121.4.193\n",
            "Connecting to yaroslavvb.com (yaroslavvb.com)|129.121.4.193|:80... connected.\n",
            "HTTP request sent, awaiting response... 200 OK\n",
            "Length: 8458043 (8.1M) [application/x-gzip]\n",
            "Saving to: ‘notMNIST_small.tar.gz.1’\n",
            "\n",
            "notMNIST_small.tar. 100%[===================>]   8.07M  14.5MB/s    in 0.6s    \n",
            "\n",
            "2023-02-13 06:23:50 (14.5 MB/s) - ‘notMNIST_small.tar.gz.1’ saved [8458043/8458043]\n",
            "\n"
          ]
        }
      ]
    },
    {
      "cell_type": "code",
      "source": [
        "from __future__ import print_function\n",
        "import numpy as np\n",
        "import torch\n",
        "print(torch.__version__)\n",
        "from sklearn.datasets import load_boston\n",
        "from IPython.display import clear_output"
      ],
      "metadata": {
        "colab": {
          "base_uri": "https://localhost:8080/"
        },
        "id": "u9FzqaDtQPLr",
        "outputId": "44aa6114-6ac5-42f4-f67f-e999764cbf50"
      },
      "execution_count": 4,
      "outputs": [
        {
          "output_type": "stream",
          "name": "stdout",
          "text": [
            "1.13.1+cu116\n"
          ]
        }
      ]
    },
    {
      "cell_type": "code",
      "source": [
        "# numpy world\n",
        "\n",
        "x = np.arange(16).reshape(4, 4)\n",
        "\n",
        "print(\"X :\\n%s\\n\" % x)\n",
        "print(\"X.shape : %s\\n\" % (x.shape,))\n",
        "print(\"add 5 :\\n%s\\n\" % (x + 5))\n",
        "print(\"X*X^T  :\\n%s\\n\" % np.dot(x, x.T))\n",
        "print(\"mean over cols :\\n%s\\n\" % (x.mean(axis=-1)))\n",
        "print(\"cumsum of cols :\\n%s\\n\" % (np.cumsum(x, axis=0)))"
      ],
      "metadata": {
        "colab": {
          "base_uri": "https://localhost:8080/"
        },
        "id": "U9tqXgPgQTyb",
        "outputId": "98236a88-32e4-4867-f83e-1f4deb5bb2bb"
      },
      "execution_count": 3,
      "outputs": [
        {
          "output_type": "stream",
          "name": "stdout",
          "text": [
            "X :\n",
            "[[ 0  1  2  3]\n",
            " [ 4  5  6  7]\n",
            " [ 8  9 10 11]\n",
            " [12 13 14 15]]\n",
            "\n",
            "X.shape : (4, 4)\n",
            "\n",
            "add 5 :\n",
            "[[ 5  6  7  8]\n",
            " [ 9 10 11 12]\n",
            " [13 14 15 16]\n",
            " [17 18 19 20]]\n",
            "\n",
            "X*X^T  :\n",
            "[[ 14  38  62  86]\n",
            " [ 38 126 214 302]\n",
            " [ 62 214 366 518]\n",
            " [ 86 302 518 734]]\n",
            "\n",
            "mean over cols :\n",
            "[ 1.5  5.5  9.5 13.5]\n",
            "\n",
            "cumsum of cols :\n",
            "[[ 0  1  2  3]\n",
            " [ 4  6  8 10]\n",
            " [12 15 18 21]\n",
            " [24 28 32 36]]\n",
            "\n"
          ]
        }
      ]
    },
    {
      "cell_type": "code",
      "source": [
        "# pytorch world\n",
        "\n",
        "x = np.arange(16).reshape(4, 4)\n",
        "\n",
        "x = torch.tensor(x, dtype=torch.float32)  # or torch.arange(0,16).view(4,4)\n",
        "\n",
        "print(\"X :\\n%s\" % x)\n",
        "print(\"X.shape : %s\\n\" % (x.shape,))\n",
        "print(\"add 5 :\\n%s\" % (x + 5))\n",
        "print(\"X*X^T  :\\n%s\" % torch.matmul(x, x.transpose(1, 0)))  # short: x.mm(x.t())\n",
        "print(\"mean over cols :\\n%s\" % torch.mean(x, dim=-1))\n",
        "print(\"cumsum of cols :\\n%s\" % torch.cumsum(x, dim=0))"
      ],
      "metadata": {
        "colab": {
          "base_uri": "https://localhost:8080/"
        },
        "id": "-fkb7zBQQWRX",
        "outputId": "9526416c-d721-44a8-bfe7-af3de02066b8"
      },
      "execution_count": 5,
      "outputs": [
        {
          "output_type": "stream",
          "name": "stdout",
          "text": [
            "X :\n",
            "tensor([[ 0.,  1.,  2.,  3.],\n",
            "        [ 4.,  5.,  6.,  7.],\n",
            "        [ 8.,  9., 10., 11.],\n",
            "        [12., 13., 14., 15.]])\n",
            "X.shape : torch.Size([4, 4])\n",
            "\n",
            "add 5 :\n",
            "tensor([[ 5.,  6.,  7.,  8.],\n",
            "        [ 9., 10., 11., 12.],\n",
            "        [13., 14., 15., 16.],\n",
            "        [17., 18., 19., 20.]])\n",
            "X*X^T  :\n",
            "tensor([[ 14.,  38.,  62.,  86.],\n",
            "        [ 38., 126., 214., 302.],\n",
            "        [ 62., 214., 366., 518.],\n",
            "        [ 86., 302., 518., 734.]])\n",
            "mean over cols :\n",
            "tensor([ 1.5000,  5.5000,  9.5000, 13.5000])\n",
            "cumsum of cols :\n",
            "tensor([[ 0.,  1.,  2.,  3.],\n",
            "        [ 4.,  6.,  8., 10.],\n",
            "        [12., 15., 18., 21.],\n",
            "        [24., 28., 32., 36.]])\n"
          ]
        }
      ]
    },
    {
      "cell_type": "markdown",
      "source": [
        "## NumPy and Pytorch\n",
        "\n",
        "As you can notice, pytorch allows you to hack stuff much the same way you did with numpy. No graph declaration, no placeholders, no sessions. This means that you can _see the numeric value of any tensor at any moment of time_. Debugging such code can be done with by printing tensors or using any debug tool you want (e.g. [gdb](https://wiki.python.org/moin/DebuggingWithGdb)).\n",
        "\n",
        "You could also notice the a few new method names and a different API. So no, there's no compatibility with numpy [yet](https://github.com/pytorch/pytorch/issues/2228) and yes, you'll have to memorize all the names again. Get excited!\n",
        "\n",
        "![img](http://i0.kym-cdn.com/entries/icons/original/000/017/886/download.jpg)\n",
        "\n",
        "For example, \n",
        "* If something takes a list/tuple of axes in numpy, you can expect it to take *args in pytorch\n",
        " * `x.reshape([1,2,8]) -> x.view(1,2,8)`\n",
        "* You should swap _axis_ for _dim_ in operations like mean or cumsum\n",
        " * `x.sum(axis=-1) -> x.sum(dim=-1)`\n",
        "* most mathematical operations are the same, but types an shaping is different\n",
        " * `x.astype('int64') -> x.type(torch.LongTensor)`\n",
        "\n",
        "To help you acclimatize, there's a [table](https://github.com/torch/torch7/wiki/Torch-for-Numpy-users) covering most new things. There's also a neat [documentation page](http://pytorch.org/docs/master/).\n",
        "\n",
        "Finally, if you're stuck with a technical problem, we recommend searching [pytorch forumns](https://discuss.pytorch.org/). Or just googling, which usually works just as efficiently. \n",
        "\n",
        "If you feel like you almost give up, remember two things: __GPU__ an __free gradients__. Besides you can always jump back to numpy with x.numpy()"
      ],
      "metadata": {
        "id": "_CeiDwk9QZqz"
      }
    },
    {
      "cell_type": "markdown",
      "source": [
        "### Warmup: trigonometric knotwork\n",
        "_inspired by [this post](https://www.quora.com/What-are-the-most-interesting-equation-plots)_\n",
        "\n",
        "There are some simple mathematical functions with cool plots. For one, consider this:\n",
        "\n",
        "$$ x(t) = t - 1.5 * cos( 15 t) $$\n",
        "$$ y(t) = t - 1.5 * sin( 16 t) $$\n"
      ],
      "metadata": {
        "id": "IMCfjZogQaNZ"
      }
    },
    {
      "cell_type": "code",
      "source": [
        "t = torch.linspace(-10, 10, steps=10000)\n",
        "torch.sin(t)\n"
      ],
      "metadata": {
        "colab": {
          "base_uri": "https://localhost:8080/"
        },
        "id": "AacAA_VPQz63",
        "outputId": "19ea7529-9fc9-4113-a84e-5bcebd1259c1"
      },
      "execution_count": 6,
      "outputs": [
        {
          "output_type": "execute_result",
          "data": {
            "text/plain": [
              "tensor([ 0.5440,  0.5423,  0.5407,  ..., -0.5407, -0.5423, -0.5440])"
            ]
          },
          "metadata": {},
          "execution_count": 6
        }
      ]
    },
    {
      "cell_type": "code",
      "source": [
        "import matplotlib.pyplot as plt\n",
        "%matplotlib inline\n",
        "\n",
        "t = torch.linspace(-10, 10, steps=10000)\n",
        "\n",
        "# compute x(t) and y(t) as defined above\n",
        "x =  t - torch.cos(15 * t) * 1.5  \n",
        "y =  t - torch.sin(16 * t) * 1.5\n",
        "plt.plot(x.numpy(), y.numpy())"
      ],
      "metadata": {
        "colab": {
          "base_uri": "https://localhost:8080/",
          "height": 282
        },
        "id": "9K-eC5fxQeVw",
        "outputId": "e3a01182-d274-452b-fc6c-f88590739801"
      },
      "execution_count": 7,
      "outputs": [
        {
          "output_type": "execute_result",
          "data": {
            "text/plain": [
              "[<matplotlib.lines.Line2D at 0x7fbdd31a14f0>]"
            ]
          },
          "metadata": {},
          "execution_count": 7
        },
        {
          "output_type": "display_data",
          "data": {
            "text/plain": [
              "<Figure size 432x288 with 1 Axes>"
            ],
            "image/png": "[encoded data removed]"
          },
          "metadata": {
            "needs_background": "light"
          }
        }
      ]
    },
    {
      "cell_type": "markdown",
      "source": [
        "## Automatic gradients\n",
        "\n",
        "Any self-respecting DL framework must do your backprop for you. Torch handles this with the `autograd` module.\n",
        "\n",
        "The general pipeline looks like this:\n",
        "* When creating a tensor, you mark it as `requires_grad`:\n",
        "    * __```torch.zeros(5, requires_grad=True)```__\n",
        "    * torch.tensor(np.arange(5), dtype=torch.float32, requires_grad=True)\n",
        "* Define some differentiable `loss = arbitrary_function(a)`\n",
        "* Call `loss.backward()`\n",
        "* Gradients are now available as ```a.grads```\n",
        "\n",
        "__Here's an example:__ let's fit a linear regression on Boston house prices"
      ],
      "metadata": {
        "id": "mCwFIdIqQ_H1"
      }
    },
    {
      "cell_type": "code",
      "source": [
        "from sklearn.datasets import load_boston\n",
        "from IPython.display import clear_output\n",
        "boston = load_boston()\n",
        "clear_output()\n",
        "plt.scatter(boston.data[:, -1], boston.target)\n",
        "plt.ylabel('y')\n",
        "plt.xlabel('x')\n",
        "plt.title('Data');"
      ],
      "metadata": {
        "colab": {
          "base_uri": "https://localhost:8080/",
          "height": 295
        },
        "id": "iV0TxEGuRCjm",
        "outputId": "a7a88f3a-1ce4-43fb-be11-3b336d9794a0"
      },
      "execution_count": 28,
      "outputs": [
        {
          "output_type": "display_data",
          "data": {
            "text/plain": [
              "<Figure size 432x288 with 1 Axes>"
            ],
            "image/png": "[encoded data removed]"
          },
          "metadata": {
            "needs_background": "light"
          }
        }
      ]
    },
    {
      "cell_type": "code",
      "source": [
        "from torch.autograd import Variable\n",
        "w = torch.zeros(1, requires_grad=True)\n",
        "w_2 = torch.zeros(1, requires_grad=True)\n",
        "w_3 = torch.zeros(1, requires_grad=True)\n",
        "b = torch.zeros(1, requires_grad=True)\n",
        "\n",
        "x = torch.tensor(boston.data[:, -1] / 10, dtype=torch.float32)\n",
        "y = torch.tensor(boston.target, dtype=torch.float32)"
      ],
      "metadata": {
        "id": "8u-r6HCKRE_D"
      },
      "execution_count": 47,
      "outputs": []
    },
    {
      "cell_type": "code",
      "source": [
        "y_pred = w * x + w_2 * (x ** 2) + b + w_3 * (x ** 3)\n",
        "loss = torch.mean((y_pred - y)**2)\n",
        "\n",
        "# propagete gradients\n",
        "loss.backward()"
      ],
      "metadata": {
        "id": "q4KhsD_mRbjm"
      },
      "execution_count": 33,
      "outputs": []
    },
    {
      "cell_type": "markdown",
      "source": [
        "The gradients are now stored in `.grad` of those variables that require them."
      ],
      "metadata": {
        "id": "GqV3-6iURdiW"
      }
    },
    {
      "cell_type": "code",
      "source": [
        "print(\"dL/dw = \\n\", w.grad)\n",
        "print('dL/dw_2 = \\n', w_2.grad)\n",
        "print(\"dL/db = \\n\", b.grad)"
      ],
      "metadata": {
        "colab": {
          "base_uri": "https://localhost:8080/"
        },
        "id": "EilrZuMCReFw",
        "outputId": "6cc83a74-c996-4c83-9bee-f4a303a92745"
      },
      "execution_count": 25,
      "outputs": [
        {
          "output_type": "stream",
          "name": "stdout",
          "text": [
            "dL/dw = \n",
            " tensor([-162.8259])\n",
            "dL/dw_2 = \n",
            " tensor([-68.1230])\n",
            "dL/db = \n",
            " tensor([-90.1312])\n"
          ]
        }
      ]
    },
    {
      "cell_type": "markdown",
      "source": [
        "If you compute gradient from multiple losses, the gradients will add up at variables, therefore it's useful to __zero the gradients__ between iteratons."
      ],
      "metadata": {
        "id": "S2ev8iaZRgLp"
      }
    },
    {
      "cell_type": "code",
      "source": [
        "from IPython.display import clear_output\n",
        "learning_rate = 0.01\n",
        "for i in range(500):\n",
        "\n",
        "    y_pred = w * x + w_2 * (x ** 2) + b # w_3 * (x ** 3)\n",
        "    loss = torch.mean((y_pred - y)**2)\n",
        "    loss.backward()\n",
        "\n",
        "    w.data -= learning_rate * w.grad.data\n",
        "    w_2.data -= learning_rate * w_2.grad.data\n",
        "    # w_3.data -= learning_rate * w_3.grad.data\n",
        "    b.data -= learning_rate * b.grad.data\n",
        "\n",
        "    # zero gradients\n",
        "    w.grad.data.zero_()\n",
        "    w_2.grad.data.zero_()\n",
        "    # w_3.grad.data.zero_()\n",
        "    b.grad.data.zero_()\n",
        "\n",
        "    # the rest of code is just bells and whistles\n",
        "    if (i+1) % 5 == 0:\n",
        "        clear_output(True)\n",
        "        plt.scatter(x.data.numpy(), y.data.numpy())\n",
        "        plt.scatter(x.data.numpy(), y_pred.data.numpy(),\n",
        "                    color='orange', linewidth=5)\n",
        "        plt.show()\n",
        "\n",
        "        print(\"loss = \", loss.data.numpy())\n",
        "        if loss.data.numpy() < 0.5:\n",
        "            print(\"Done!\")\n",
        "            break"
      ],
      "metadata": {
        "colab": {
          "base_uri": "https://localhost:8080/",
          "height": 282
        },
        "id": "LUJCVNr5Rglh",
        "outputId": "fd742d70-1eca-49c3-e80b-5d7d3898dc3e"
      },
      "execution_count": 48,
      "outputs": [
        {
          "output_type": "display_data",
          "data": {
            "text/plain": [
              "<Figure size 432x288 with 1 Axes>"
            ],
            "image/png": "[encoded data removed]"
          },
          "metadata": {
            "needs_background": "light"
          }
        },
        {
          "output_type": "stream",
          "name": "stdout",
          "text": [
            "loss =  59.141834\n"
          ]
        }
      ]
    },
    {
      "cell_type": "markdown",
      "source": [
        "# High-level pytorch\n",
        "\n",
        "So far we've been dealing with low-level torch API. While it's absolutely vital for any custom losses or layers, building large neura nets in it is a bit clumsy.\n",
        "\n",
        "Luckily, there's also a high-level torch interface with a pre-defined layers, activations and training algorithms. \n",
        "\n",
        "We'll cover them as we go through a simple image recognition problem: classifying letters into __\"A\"__ vs __\"B\"__.\n"
      ],
      "metadata": {
        "id": "cWujfJrXSw1e"
      }
    },
    {
      "cell_type": "code",
      "source": [
        "!pip install https://github.com/CellProfiling/HPA-Cell-Segmentation/archive/master.zip"
      ],
      "metadata": {
        "colab": {
          "base_uri": "https://localhost:8080/"
        },
        "id": "3WuJ9Gjfbtrv",
        "outputId": "a7a5c82e-6070-4ce3-96be-fae248820dbd"
      },
      "execution_count": 5,
      "outputs": [
        {
          "output_type": "stream",
          "name": "stdout",
          "text": [
            "Installing collected packages: pytorch_zoo, hpacellseg\n",
            "Successfully installed hpacellseg-0.1.8 pytorch_zoo-0.0.0\n"
          ]
        }
      ]
    },
    {
      "cell_type": "code",
      "source": [
        "!pip install Pillow"
      ],
      "metadata": {
        "colab": {
          "base_uri": "https://localhost:8080/"
        },
        "id": "jGMs0jxDcRBc",
        "outputId": "1a63de7f-3a73-4a58-b252-8a41768e1ddf"
      },
      "execution_count": 6,
      "outputs": [
        {
          "output_type": "stream",
          "name": "stdout",
          "text": [
            "Looking in indexes: https://pypi.org/simple, https://us-python.pkg.dev/colab-wheels/public/simple/\n",
            "Requirement already satisfied: Pillow in /usr/local/lib/python3.8/dist-packages (5.3.0)\n"
          ]
        }
      ]
    },
    {
      "cell_type": "code",
      "source": [
        "import os\n",
        "from glob import glob\n",
        "from PIL import Image\n",
        "from torchvision import transforms\n",
        "import numpy as np\n",
        "from imageio import imread\n",
        "from skimage.transform import resize\n",
        "from sklearn.model_selection import train_test_split\n",
        "\n",
        "def load_notmnist(path='./notMNIST_small', letters='ABCDEFGHIJ',\n",
        "                  img_shape=(28, 28), test_size=0.25, one_hot=False):\n",
        "    # download data if it's missing. If you have any problems, go to the urls\n",
        "    # and load it manually.\n",
        "    if not os.path.exists(path):\n",
        "        print(\"Downloading data...\")\n",
        "        assert os.system(\n",
        "            'wget http://yaroslavvb.com/upload/notMNIST/notMNIST_small.tar.gz') == 0\n",
        "        print(\"Extracting ...\")\n",
        "        assert os.system(\n",
        "            'tar -zxvf notMNIST_small.tar.gz > untar_notmnist.log') == 0\n",
        "    transform = transforms.Compose([\n",
        "    transforms.Resize((28, 28)),\n",
        "    transforms.ToTensor()])\n",
        "    data, labels = [], []\n",
        "    print(\"Parsing...\")\n",
        "    for img_path in glob(os.path.join(path, '*/*')):\n",
        "        class_i = img_path.split(os.sep)[-2]\n",
        "        if class_i not in letters:\n",
        "            continue\n",
        "        try:\n",
        "            img = Image.open(img_path)\n",
        "            data.append(transform(img))\n",
        "            labels.append(class_i,)\n",
        "        except BaseException:\n",
        "            print(\n",
        "                \"found broken img: %s [it's ok if <10 images are broken]\" %\n",
        "                img_path)\n",
        "\n",
        "    data = np.stack(data)[:, None].astype('float32')\n",
        "    data = (data - np.mean(data)) / np.std(data)\n",
        "\n",
        "    # convert classes to ints\n",
        "    letter_to_i = {l: i for i, l in enumerate(letters)}\n",
        "    labels = np.array(list(map(letter_to_i.get, labels)))\n",
        "\n",
        "    if one_hot:\n",
        "        labels = (np.arange(np.max(labels) + 1)\n",
        "                  [None, :] == labels[:, None]).astype('float32')\n",
        "\n",
        "    # split into train/test\n",
        "    X_train, X_test, y_train, y_test = train_test_split(\n",
        "        data, labels, test_size=test_size, random_state=42)\n",
        "\n",
        "    print(\"Done\")\n",
        "    return X_train, y_train, X_test, y_test\n"
      ],
      "metadata": {
        "id": "1ZFWrK3KY9S-"
      },
      "execution_count": 22,
      "outputs": []
    },
    {
      "cell_type": "code",
      "source": [
        "X_train, y_train, X_test, y_test = load_notmnist(letters='AB')\n",
        "X_train, X_test = X_train.reshape([-1, 784]), X_test.reshape([-1, 784])\n",
        "clear_output()\n",
        "print(\"Train size = %i, test_size = %i\" % (len(X_train), len(X_test)))"
      ],
      "metadata": {
        "colab": {
          "base_uri": "https://localhost:8080/"
        },
        "id": "dSOf5NbWTHGy",
        "outputId": "b1755e0f-ce6d-41c1-a572-476e63adffc2"
      },
      "execution_count": 23,
      "outputs": [
        {
          "output_type": "stream",
          "name": "stdout",
          "text": [
            "Train size = 2808, test_size = 937\n"
          ]
        }
      ]
    },
    {
      "cell_type": "code",
      "source": [
        "import matplotlib.pyplot as plt\n",
        "for i in [0, 1]:\n",
        "    plt.subplot(1, 2, i + 1)\n",
        "    plt.imshow(X_train[i].reshape([28, 28]))\n",
        "    plt.title(str(y_train[i]))"
      ],
      "metadata": {
        "colab": {
          "base_uri": "https://localhost:8080/",
          "height": 216
        },
        "id": "WYvWtzwETIgC",
        "outputId": "9512bd36-0381-47eb-de24-62e03cb14803"
      },
      "execution_count": 25,
      "outputs": [
        {
          "output_type": "display_data",
          "data": {
            "text/plain": [
              "<Figure size 432x288 with 2 Axes>"
            ],
            "image/png": "[encoded data removed]"
          },
          "metadata": {
            "needs_background": "light"
          }
        }
      ]
    },
    {
      "cell_type": "markdown",
      "source": [
        "Let's start with layers. The main abstraction here is __`torch.nn.Module`__"
      ],
      "metadata": {
        "id": "dqZBzzs4doCw"
      }
    },
    {
      "cell_type": "code",
      "source": [
        "from torch import nn\n",
        "import torch.nn.functional as F\n",
        "\n",
        "print(nn.Module.__doc__)"
      ],
      "metadata": {
        "colab": {
          "base_uri": "https://localhost:8080/"
        },
        "id": "0W2WDJ65dohu",
        "outputId": "27c472a0-d664-4038-aec2-6e9f8104d099"
      },
      "execution_count": 26,
      "outputs": [
        {
          "output_type": "stream",
          "name": "stdout",
          "text": [
            "Base class for all neural network modules.\n",
            "\n",
            "    Your models should also subclass this class.\n",
            "\n",
            "    Modules can also contain other Modules, allowing to nest them in\n",
            "    a tree structure. You can assign the submodules as regular attributes::\n",
            "\n",
            "        import torch.nn as nn\n",
            "        import torch.nn.functional as F\n",
            "\n",
            "        class Model(nn.Module):\n",
            "            def __init__(self):\n",
            "                super().__init__()\n",
            "                self.conv1 = nn.Conv2d(1, 20, 5)\n",
            "                self.conv2 = nn.Conv2d(20, 20, 5)\n",
            "\n",
            "            def forward(self, x):\n",
            "                x = F.relu(self.conv1(x))\n",
            "                return F.relu(self.conv2(x))\n",
            "\n",
            "    Submodules assigned in this way will be registered, and will have their\n",
            "    parameters converted too when you call :meth:`to`, etc.\n",
            "\n",
            "    .. note::\n",
            "        As per the example above, an ``__init__()`` call to the parent class\n",
            "        must be made before assignment on the child.\n",
            "\n",
            "    :ivar training: Boolean represents whether this module is in training or\n",
            "                    evaluation mode.\n",
            "    :vartype training: bool\n",
            "    \n"
          ]
        }
      ]
    },
    {
      "cell_type": "markdown",
      "source": [
        "There's a vast library of popular layers and architectures already built for ya'.\n",
        "\n",
        "This is a binary classification problem, so we'll train a __Logistic Regression with sigmoid__.\n",
        "$$P(y_i | X_i) = \\sigma(W \\cdot X_i + b) ={ 1 \\over {1+e^{- [W \\cdot X_i + b]}} }$$\n"
      ],
      "metadata": {
        "id": "qx284U0bdiqN"
      }
    },
    {
      "cell_type": "code",
      "source": [
        "# create a network that stacks layers on top of each other\n",
        "model = nn.Sequential()\n",
        "\n",
        "# add first \"dense\" layer with 784 input units and 1 output unit.\n",
        "model.add_module('l1', nn.Linear(784, 1))\n",
        "\n",
        "# add softmax activation for probabilities. Normalize over axis 1\n",
        "# note: layer names must be unique\n",
        "model.add_module('l2', nn.Sigmoid())"
      ],
      "metadata": {
        "id": "LvUFhixxdsj2"
      },
      "execution_count": 65,
      "outputs": []
    },
    {
      "cell_type": "code",
      "source": [
        "print(\"Weight shapes:\", [w.shape for w in model.parameters()])"
      ],
      "metadata": {
        "colab": {
          "base_uri": "https://localhost:8080/"
        },
        "id": "tRToLE0Td0oR",
        "outputId": "b0ffc665-3ac7-45ee-fc0f-4577fc41bbc6"
      },
      "execution_count": 28,
      "outputs": [
        {
          "output_type": "stream",
          "name": "stdout",
          "text": [
            "Weight shapes: [torch.Size([1, 784]), torch.Size([1])]\n"
          ]
        }
      ]
    },
    {
      "cell_type": "code",
      "source": [
        "# create dummy data with 3 samples and 784 features\n",
        "x = torch.tensor(X_train[:3], dtype=torch.float32, requires_grad = True)\n",
        "y = torch.tensor(y_train[:3], dtype=torch.float32, requires_grad = True)\n",
        "\n",
        "# compute outputs given inputs, both are variables\n",
        "y_predicted = model(x)[:, 0]\n",
        "\n",
        "y_predicted  # display what we've got"
      ],
      "metadata": {
        "colab": {
          "base_uri": "https://localhost:8080/"
        },
        "id": "aUUrsLGseZ58",
        "outputId": "4a6feeb6-2257-40b2-d5e3-1979ee4eec93"
      },
      "execution_count": 66,
      "outputs": [
        {
          "output_type": "execute_result",
          "data": {
            "text/plain": [
              "tensor([0.4690, 0.7351, 0.7349], grad_fn=<SelectBackward0>)"
            ]
          },
          "metadata": {},
          "execution_count": 66
        }
      ]
    },
    {
      "cell_type": "markdown",
      "source": [
        "Let's now define a loss function for our model.\n",
        "\n",
        "The natural choice is to use binary crossentropy (aka logloss, negative llh):\n",
        "$$ L = {1 \\over N} \\underset{X_i,y_i} \\sum - [  y_i \\cdot log P(y_i | X_i) + (1-y_i) \\cdot log (1-P(y_i | X_i)) ]$$\n",
        "\n"
      ],
      "metadata": {
        "id": "2mHaligwecgM"
      }
    },
    {
      "cell_type": "code",
      "source": [
        "crossentropy =  -(y * np.log(y_predicted.detach()) + (1 - y) * np.log(1 - y_predicted.detach()))\n",
        "\n",
        "loss =  crossentropy.mean()\n",
        "\n",
        "assert tuple(crossentropy.size()) == (\n",
        "    3,), \"Crossentropy must be a vector with element per sample\"\n",
        "assert tuple(loss.size()) == tuple(\n",
        "), \"Loss must be scalar. Did you forget the mean/sum?\"\n",
        "assert loss.data.numpy() > 0, \"Crossentropy must non-negative, zero only for perfect prediction\"\n",
        "assert loss.data.numpy() <= np.log(\n",
        "    3), \"Loss is too large even for untrained model. Please double-check it.\""
      ],
      "metadata": {
        "id": "-Ox_G_EKec9c"
      },
      "execution_count": 67,
      "outputs": []
    },
    {
      "cell_type": "markdown",
      "source": [
        "__Note:__ you can also find many such functions in `torch.nn.functional`, just type __`F.<tab>`__."
      ],
      "metadata": {
        "id": "l52J3FqtgpqY"
      }
    },
    {
      "cell_type": "markdown",
      "source": [
        "__Torch optimizers__\n",
        "\n",
        "When we trained Linear Regression above, we had to manually .zero_() gradients on both our variables. Imagine that code for a 50-layer network.\n",
        "\n",
        "Again, to keep it from getting dirty, there's `torch.optim` module with pre-implemented algorithms:"
      ],
      "metadata": {
        "id": "NOlyDMQagtFK"
      }
    },
    {
      "cell_type": "code",
      "source": [
        "opt = torch.optim.RMSprop(model.parameters(), lr=0.01)\n",
        "\n",
        "# here's how it's used:\n",
        "loss.backward()      # add new gradients\n",
        "opt.step()           # change weights\n",
        "opt.zero_grad()      # clear gradients"
      ],
      "metadata": {
        "id": "vk9CrbSchEdT"
      },
      "execution_count": 70,
      "outputs": []
    },
    {
      "cell_type": "code",
      "source": [
        "# dispose of old variables to avoid bugs later\n",
        "del x, y, y_predicted, loss"
      ],
      "metadata": {
        "id": "7LENhayphhAr"
      },
      "execution_count": 71,
      "outputs": []
    },
    {
      "cell_type": "markdown",
      "source": [
        "### Putting it all together"
      ],
      "metadata": {
        "id": "o-I83wghhp8B"
      }
    },
    {
      "cell_type": "code",
      "source": [
        "# create network again just in case\n",
        "model = nn.Sequential()\n",
        "model.add_module('first', nn.Linear(784, 1))\n",
        "model.add_module('second', nn.Sigmoid())\n",
        "loss_fn = lambda y, y_predicted: (-(y * np.log1p(y_predicted.detach()) + (1 - y) * np.log1p(1 - y_predicted.detach()))).mean()\n",
        "opt = torch.optim.Adam(model.parameters(), lr=1e-3)"
      ],
      "metadata": {
        "id": "lCVsOi9yhoiT"
      },
      "execution_count": 129,
      "outputs": []
    },
    {
      "cell_type": "code",
      "source": [
        "history = []\n",
        "nn.CrossEntropyLoss()\n",
        "\n",
        "for i in range(250):\n",
        "\n",
        "    # sample 256 random images\n",
        "    ix = np.random.randint(0, len(X_train), 256)\n",
        "    x_batch = torch.tensor(X_train[ix], dtype=torch.float32, requires_grad = True)\n",
        "    y_batch = torch.tensor(y_train[ix], dtype=torch.float32, requires_grad = True)\n",
        "\n",
        "    # predict probabilities\n",
        "    y_predicted =  model(x_batch)[:, 0]\n",
        "\n",
        "    assert y_predicted.dim(\n",
        "    ) == 1, \"did you forget to select first column with [:, 0]\"\n",
        "\n",
        "    # compute loss, just like before\n",
        "    loss =  loss_fn(y_predicted, y_batch)\n",
        "    # loss = nn.CrossEntropyLoss()(y_predicted, y_batch)\n",
        "    # compute gradients\n",
        "    loss.backward()\n",
        "\n",
        "    # Adam step\n",
        "    opt.step()\n",
        "\n",
        "    # clear gradients\n",
        "    opt.zero_grad()\n",
        "\n",
        "    history.append(loss.data.numpy())\n",
        "\n",
        "    if i % 10 == 0:\n",
        "        print(\"step #%i | mean loss = %.3f\" % (i, np.mean(history[-10:])))"
      ],
      "metadata": {
        "colab": {
          "base_uri": "https://localhost:8080/"
        },
        "id": "gnog5P9-hsG2",
        "outputId": "c2193a5a-7e38-484f-a6d3-1dd74809b3c4"
      },
      "execution_count": 130,
      "outputs": [
        {
          "output_type": "stream",
          "name": "stdout",
          "text": [
            "step #0 | mean loss = -0.297\n",
            "step #10 | mean loss = -0.470\n",
            "step #20 | mean loss = -0.593\n",
            "step #30 | mean loss = -0.608\n",
            "step #40 | mean loss = -0.622\n",
            "step #50 | mean loss = -0.629\n",
            "step #60 | mean loss = -0.634\n",
            "step #70 | mean loss = -0.636\n",
            "step #80 | mean loss = -0.639\n",
            "step #90 | mean loss = -0.643\n",
            "step #100 | mean loss = -0.643\n",
            "step #110 | mean loss = -0.647\n",
            "step #120 | mean loss = -0.650\n",
            "step #130 | mean loss = -0.648\n",
            "step #140 | mean loss = -0.650\n",
            "step #150 | mean loss = -0.649\n",
            "step #160 | mean loss = -0.655\n",
            "step #170 | mean loss = -0.653\n",
            "step #180 | mean loss = -0.654\n",
            "step #190 | mean loss = -0.656\n",
            "step #200 | mean loss = -0.661\n",
            "step #210 | mean loss = -0.661\n",
            "step #220 | mean loss = -0.661\n",
            "step #230 | mean loss = -0.659\n",
            "step #240 | mean loss = -0.660\n"
          ]
        }
      ]
    },
    {
      "cell_type": "markdown",
      "source": [
        "__Debugging tips:__\n",
        "* make sure your model predicts probabilities correctly. Just print them and see what's inside.\n",
        "* don't forget _minus_ sign in the loss function! It's a mistake 99% ppl do at some point.\n",
        "* make sure you zero-out gradients after each step. Srsly:)\n",
        "* In general, pytorch's error messages are quite helpful, read 'em before you google 'em.\n",
        "* if you see nan/inf, print what happens at each iteration to find our where exactly it occurs.\n",
        "  * If loss goes down and then turns nan midway through, try smaller learning rate. (Our current loss formula is unstable).\n"
      ],
      "metadata": {
        "id": "mfis7SA7muI_"
      }
    },
    {
      "cell_type": "markdown",
      "source": [
        "### Evaluation\n",
        "\n",
        "Let's see how our model performs on test data"
      ],
      "metadata": {
        "id": "lKm-YK5wmxG1"
      }
    },
    {
      "cell_type": "code",
      "source": [
        "# use your model to predict classes (0 or 1) for all test samples\n",
        "predict = model(torch.tensor(X_test))\n",
        "treshold = 0.5\n",
        "predicted_y_test = np.array([1 if y > treshold else 0 for y in predict])\n",
        "\n",
        "assert isinstance(predicted_y_test, np.ndarray), \"please return np array, not %s\" % type(\n",
        "    predicted_y_test)\n",
        "assert predicted_y_test.shape == y_test.shape, \"please predict one class for each test sample\"\n",
        "assert np.in1d(predicted_y_test, y_test).all(), \"please predict class indexes\"\n",
        "\n",
        "accuracy = np.mean(predicted_y_test == y_test)\n",
        "\n",
        "print(\"Test accuracy: %.5f\" % accuracy)\n",
        "assert accuracy > 0.95, \"try training longer\""
      ],
      "metadata": {
        "colab": {
          "base_uri": "https://localhost:8080/"
        },
        "id": "Te5enwS0mxui",
        "outputId": "4ce01cec-129e-405c-a585-28be81ab30c9"
      },
      "execution_count": 131,
      "outputs": [
        {
          "output_type": "stream",
          "name": "stdout",
          "text": [
            "Test accuracy: 0.96692\n"
          ]
        }
      ]
    },
    {
      "cell_type": "markdown",
      "source": [
        "## More about pytorch:\n",
        "* Using torch on GPU and multi-GPU - [link](http://pytorch.org/docs/master/notes/cuda.html)\n",
        "* More tutorials on pytorch - [link](http://pytorch.org/tutorials/beginner/deep_learning_60min_blitz.html)\n",
        "* Pytorch examples - a repo that implements many cool DL models in pytorch - [link](https://github.com/pytorch/examples)\n",
        "* Practical pytorch - a repo that implements some... other cool DL models... yes, in pytorch - [link](https://github.com/spro/practical-pytorch)\n",
        "* And some more - [link](https://www.reddit.com/r/pytorch/comments/6z0yeo/pytorch_and_pytorch_tricks_for_kaggle/)\n"
      ],
      "metadata": {
        "id": "08NS-D3_riaE"
      }
    },
    {
      "cell_type": "code",
      "source": [],
      "metadata": {
        "id": "fxJiPYPhrlC_"
      },
      "execution_count": null,
      "outputs": []
    }
  ]
}