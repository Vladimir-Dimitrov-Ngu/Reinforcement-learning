{
  "nbformat": 4,
  "nbformat_minor": 0,
  "metadata": {
    "colab": {
      "provenance": []
    },
    "kernelspec": {
      "name": "python3",
      "display_name": "Python 3"
    },
    "language_info": {
      "name": "python"
    }
  },
  "cells": [
    {
      "cell_type": "markdown",
      "source": [
        "# Deep Crossentropy method\n",
        "\n",
        "In this section we'll extend your CEM implementation with neural networks! You will train a multi-layer neural network to solve simple continuous state space games."
      ],
      "metadata": {
        "id": "RFEpSDTseC4N"
      }
    },
    {
      "cell_type": "code",
      "source": [
        "pip install gym==0.15.3"
      ],
      "metadata": {
        "id": "VNw62OvMl4x5",
        "colab": {
          "base_uri": "https://localhost:8080/"
        },
        "outputId": "ea79174e-7c8a-4e13-aeda-8b8cf50cb767"
      },
      "execution_count": 1,
      "outputs": [
        {
          "output_type": "stream",
          "name": "stdout",
          "text": [
            "Looking in indexes: https://pypi.org/simple, https://us-python.pkg.dev/colab-wheels/public/simple/\n",
            "Collecting gym==0.15.3\n",
            "  Downloading gym-0.15.3.tar.gz (1.6 MB)\n",
            "\u001b[2K     \u001b[90m━━━━━━━━━━━━━━━━━━━━━━━━━━━━━━━━━━━━━━━━\u001b[0m \u001b[32m1.6/1.6 MB\u001b[0m \u001b[31m18.4 MB/s\u001b[0m eta \u001b[36m0:00:00\u001b[0m\n",
            "\u001b[?25h  Preparing metadata (setup.py) ... \u001b[?25l\u001b[?25hdone\n",
            "Requirement already satisfied: scipy in /usr/local/lib/python3.8/dist-packages (from gym==0.15.3) (1.7.3)\n",
            "Requirement already satisfied: numpy>=1.10.4 in /usr/local/lib/python3.8/dist-packages (from gym==0.15.3) (1.21.6)\n",
            "Requirement already satisfied: six in /usr/local/lib/python3.8/dist-packages (from gym==0.15.3) (1.15.0)\n",
            "Collecting pyglet<=1.3.2,>=1.2.0\n",
            "  Downloading pyglet-1.3.2-py2.py3-none-any.whl (1.0 MB)\n",
            "\u001b[2K     \u001b[90m━━━━━━━━━━━━━━━━━━━━━━━━━━━━━━━━━━━━━━━━\u001b[0m \u001b[32m1.0/1.0 MB\u001b[0m \u001b[31m42.7 MB/s\u001b[0m eta \u001b[36m0:00:00\u001b[0m\n",
            "\u001b[?25hCollecting cloudpickle~=1.2.0\n",
            "  Downloading cloudpickle-1.2.2-py2.py3-none-any.whl (25 kB)\n",
            "Requirement already satisfied: future in /usr/local/lib/python3.8/dist-packages (from pyglet<=1.3.2,>=1.2.0->gym==0.15.3) (0.16.0)\n",
            "Building wheels for collected packages: gym\n",
            "  Building wheel for gym (setup.py) ... \u001b[?25l\u001b[?25hdone\n",
            "  Created wheel for gym: filename=gym-0.15.3-py3-none-any.whl size=1644968 sha256=ca7c412958ba2516fd25efe5d220bb3a46bfb92250cb6a31605bb15361859786\n",
            "  Stored in directory: /root/.cache/pip/wheels/9b/b4/52/f4cce4bdc360a2289a3433deaa062ceb13dbe429c342866e97\n",
            "Successfully built gym\n",
            "Installing collected packages: cloudpickle, pyglet, gym\n",
            "  Attempting uninstall: cloudpickle\n",
            "    Found existing installation: cloudpickle 2.2.0\n",
            "    Uninstalling cloudpickle-2.2.0:\n",
            "      Successfully uninstalled cloudpickle-2.2.0\n",
            "  Attempting uninstall: gym\n",
            "    Found existing installation: gym 0.25.2\n",
            "    Uninstalling gym-0.25.2:\n",
            "      Successfully uninstalled gym-0.25.2\n",
            "\u001b[31mERROR: pip's dependency resolver does not currently take into account all the packages that are installed. This behaviour is the source of the following dependency conflicts.\n",
            "tensorflow-probability 0.17.0 requires cloudpickle>=1.3, but you have cloudpickle 1.2.2 which is incompatible.\n",
            "distributed 2022.2.1 requires cloudpickle>=1.5.0, but you have cloudpickle 1.2.2 which is incompatible.\u001b[0m\u001b[31m\n",
            "\u001b[0mSuccessfully installed cloudpickle-1.2.2 gym-0.15.3 pyglet-1.3.2\n"
          ]
        }
      ]
    },
    {
      "cell_type": "code",
      "source": [
        "!pip install pygame"
      ],
      "metadata": {
        "id": "yedqdABQl6mg",
        "colab": {
          "base_uri": "https://localhost:8080/"
        },
        "outputId": "d7f75fc1-2cb1-4197-bee3-6a07adc2ae4d"
      },
      "execution_count": 2,
      "outputs": [
        {
          "output_type": "stream",
          "name": "stdout",
          "text": [
            "Looking in indexes: https://pypi.org/simple, https://us-python.pkg.dev/colab-wheels/public/simple/\n",
            "Collecting pygame\n",
            "  Downloading pygame-2.1.2-cp38-cp38-manylinux_2_17_x86_64.manylinux2014_x86_64.whl (21.8 MB)\n",
            "\u001b[2K     \u001b[90m━━━━━━━━━━━━━━━━━━━━━━━━━━━━━━━━━━━━━━━━\u001b[0m \u001b[32m21.8/21.8 MB\u001b[0m \u001b[31m32.3 MB/s\u001b[0m eta \u001b[36m0:00:00\u001b[0m\n",
            "\u001b[?25hInstalling collected packages: pygame\n",
            "Successfully installed pygame-2.1.2\n"
          ]
        }
      ]
    },
    {
      "cell_type": "code",
      "source": [
        "import sys, os\n",
        "if 'google.colab' in sys.modules and not os.path.exists('.setup_complete'):\n",
        "    !wget -q https://raw.githubusercontent.com/yandexdataschool/Practical_RL/master/setup_colab.sh -O- | bash\n",
        "    !touch .setup_complete\n",
        "\n",
        "# This code creates a virtual display to draw game images on.\n",
        "# It will have no effect if your machine has a monitor.\n",
        "if type(os.environ.get(\"DISPLAY\")) is not str or len(os.environ.get(\"DISPLAY\")) == 0:\n",
        "    !bash ../xvfb start\n",
        "    os.environ['DISPLAY'] = ':1'"
      ],
      "metadata": {
        "colab": {
          "base_uri": "https://localhost:8080/"
        },
        "id": "uXywAiV_ePy5",
        "outputId": "5614d509-1838-42b1-ca46-1ca73fd32a95"
      },
      "execution_count": 3,
      "outputs": [
        {
          "output_type": "stream",
          "name": "stdout",
          "text": [
            "Selecting previously unselected package xvfb.\n",
            "(Reading database ... 129499 files and directories currently installed.)\n",
            "Preparing to unpack .../xvfb_2%3a1.20.13-1ubuntu1~20.04.5_amd64.deb ...\n",
            "Unpacking xvfb (2:1.20.13-1ubuntu1~20.04.5) ...\n",
            "Setting up xvfb (2:1.20.13-1ubuntu1~20.04.5) ...\n",
            "Processing triggers for man-db (2.9.1-1) ...\n",
            "Starting virtual X frame buffer: Xvfb.\n"
          ]
        }
      ]
    },
    {
      "cell_type": "code",
      "source": [
        "import gym\n",
        "import numpy as np\n",
        "import matplotlib.pyplot as plt\n",
        "%matplotlib inline\n",
        "\n",
        "# if you see \"<classname> has no attribute .env\", remove .env or update gym\n",
        "env = gym.make(\"CartPole-v0\").env\n",
        "\n",
        "env.reset()\n",
        "n_actions = env.action_space.n\n",
        "state_dim = env.observation_space.shape[0]\n",
        "\n",
        "plt.imshow(env.render(\"rgb_array\"))\n",
        "print(\"state vector dim =\", state_dim)\n",
        "print(\"n_actions =\", n_actions)"
      ],
      "metadata": {
        "colab": {
          "base_uri": "https://localhost:8080/",
          "height": 304
        },
        "id": "dINMdcO9eW-E",
        "outputId": "f57aece6-61fa-4420-c857-07ef078722e7"
      },
      "execution_count": 4,
      "outputs": [
        {
          "output_type": "stream",
          "name": "stdout",
          "text": [
            "state vector dim = 4\n",
            "n_actions = 2\n"
          ]
        },
        {
          "output_type": "display_data",
          "data": {
            "text/plain": [
              "<Figure size 432x288 with 1 Axes>"
            ],
            "image/png": "[encoded data removed]"
          },
          "metadata": {
            "needs_background": "light"
          }
        }
      ]
    },
    {
      "cell_type": "markdown",
      "source": [
        "# Neural Network Policy\n",
        "\n",
        "For this assignment we'll utilize the simplified neural network implementation from __[Scikit-learn](https://scikit-learn.org/stable/modules/generated/sklearn.neural_network.MLPClassifier.html)__. Here's what you'll need:\n",
        "\n",
        "* `agent.partial_fit(states, actions)` - make a single training pass over the data. Maximize the probability of :actions: from :states:\n",
        "* `agent.predict_proba(states)` - predict probabilities of all actions, a matrix of shape __[len(states), n_actions]__\n"
      ],
      "metadata": {
        "id": "xV0ntun3efu2"
      }
    },
    {
      "cell_type": "code",
      "source": [
        "from sklearn.neural_network import MLPClassifier\n",
        "\n",
        "agent = MLPClassifier(\n",
        "    hidden_layer_sizes=(30, 30),\n",
        "    activation='tanh',\n",
        ")\n",
        "\n",
        "# initialize agent to the dimension of state space and number of actions\n",
        "agent.partial_fit([env.reset()] * n_actions, range(n_actions), range(n_actions))"
      ],
      "metadata": {
        "colab": {
          "base_uri": "https://localhost:8080/"
        },
        "id": "ir9FBPsifbeg",
        "outputId": "020a020e-a967-44ed-f4e4-e73d199d5123"
      },
      "execution_count": 5,
      "outputs": [
        {
          "output_type": "execute_result",
          "data": {
            "text/plain": [
              "MLPClassifier(activation='tanh', hidden_layer_sizes=(30, 30))"
            ]
          },
          "metadata": {},
          "execution_count": 5
        }
      ]
    },
    {
      "cell_type": "code",
      "source": [
        "def generate_session(env, agent, t_max=1000):\n",
        "    \"\"\"\n",
        "    Play a single game using agent neural network.\n",
        "    Terminate when game finishes or after :t_max: steps\n",
        "    \"\"\"\n",
        "    states, actions = [], []\n",
        "    total_reward = 0\n",
        "\n",
        "    s = env.reset()\n",
        "\n",
        "    for t in range(t_max):\n",
        "        \n",
        "        # use agent to predict a vector of action probabilities for state :s:\n",
        "        probs = agent.predict_proba(s.reshape(1, -1))\n",
        "        probs = probs.reshape(-1, 1).squeeze(-1)\n",
        "        assert probs.shape == (env.action_space.n,), \"make sure probabilities are a vector (hint: np.reshape)\"\n",
        "        \n",
        "        # use the probabilities you predicted to pick an action\n",
        "        # sample proportionally to the probabilities, don't just take the most likely action\n",
        "        a = int(np.random.choice(n_actions, 1, p = probs))\n",
        "        # ^-- hint: try np.random.choice\n",
        "\n",
        "        new_s, r, done, info = env.step(a)\n",
        "\n",
        "        # record sessions like you did before\n",
        "        states.append(s)\n",
        "        actions.append(a)\n",
        "        total_reward += r\n",
        "\n",
        "        s = new_s\n",
        "        if done:\n",
        "            break\n",
        "    return states, actions, total_reward"
      ],
      "metadata": {
        "id": "JyTRpCnKegaR"
      },
      "execution_count": 6,
      "outputs": []
    },
    {
      "cell_type": "code",
      "source": [
        "dummy_states, dummy_actions, dummy_reward = generate_session(env, agent, t_max=5)\n",
        "print(\"states:\", np.stack(dummy_states))\n",
        "print(\"actions:\", dummy_actions)\n",
        "print(\"reward:\", dummy_reward)"
      ],
      "metadata": {
        "colab": {
          "base_uri": "https://localhost:8080/"
        },
        "id": "T0MKiP_Wflzc",
        "outputId": "7a9bb8b2-5aaa-476e-d855-713d105c03e3"
      },
      "execution_count": 10,
      "outputs": [
        {
          "output_type": "stream",
          "name": "stdout",
          "text": [
            "states: [[ 0.02520234  0.04513531  0.00885338 -0.02664398]\n",
            " [ 0.02610505 -0.15011248  0.0083205   0.26881909]\n",
            " [ 0.0231028  -0.34535217  0.01369688  0.56411469]\n",
            " [ 0.01619575 -0.15042506  0.02497917  0.2757782 ]\n",
            " [ 0.01318725 -0.34589432  0.03049474  0.57623374]]\n",
            "actions: [0, 0, 1, 0, 0]\n",
            "reward: 5.0\n"
          ]
        }
      ]
    },
    {
      "cell_type": "markdown",
      "source": [
        "### CEM steps\n",
        "Deep CEM uses exactly the same strategy as the regular CEM\n",
        "\n",
        "The only difference is that now each observation is not a number but a `float32` vector."
      ],
      "metadata": {
        "id": "bOzFR-6Kek33"
      }
    },
    {
      "cell_type": "code",
      "source": [
        "def select_elites(states_batch, actions_batch, rewards_batch, percentile):\n",
        "    \"\"\"\n",
        "    Select states and actions from games that have rewards >= percentile\n",
        "    :param states_batch: list of lists of states, states_batch[session_i][t]\n",
        "    :param actions_batch: list of lists of actions, actions_batch[session_i][t]\n",
        "    :param rewards_batch: list of rewards, rewards_batch[session_i]\n",
        "\n",
        "    :returns: elite_states,elite_actions, both 1D lists of states and respective actions from elite sessions\n",
        "\n",
        "    Please return elite states and actions in their original order \n",
        "    [i.e. sorted by session number and timestep within session]\n",
        "\n",
        "    If you are confused, see examples below. Please don't assume that states are integers\n",
        "    (they will become different later).\n",
        "    \"\"\"\n",
        "    # rewards = np.array(rewards_batch)\n",
        "    reward_threshold = np.percentile(rewards_batch, percentile)\n",
        "    elite_index = np.where(rewards_batch >= reward_threshold)[0]\n",
        "    elite_states = [states_batch[:][index] for index in elite_index]\n",
        "    elite_actions = [actions_batch[:][index] for index in elite_index]\n",
        "\n",
        "    elite_states = [j for state in elite_states for j in state]\n",
        "    elite_actions = [j for state in elite_actions for j in state]\n",
        "    return elite_states, elite_actions"
      ],
      "metadata": {
        "id": "eLhYoZ5-i-Ug"
      },
      "execution_count": 9,
      "outputs": []
    },
    {
      "cell_type": "markdown",
      "source": [
        "# Training loop\n",
        "Generate sessions, select N best and fit to those."
      ],
      "metadata": {
        "id": "TmZeI7xVjJra"
      }
    },
    {
      "cell_type": "code",
      "source": [
        "from IPython.display import clear_output\n",
        "\n",
        "def show_progress(rewards_batch, log, percentile, reward_range=[-990, +10]):\n",
        "    \"\"\"\n",
        "    A convenience function that displays training progress. \n",
        "    No cool math here, just charts.\n",
        "    \"\"\"\n",
        "\n",
        "    mean_reward = np.mean(rewards_batch)\n",
        "    threshold = np.percentile(rewards_batch, percentile)\n",
        "    log.append([mean_reward, threshold])\n",
        "\n",
        "    clear_output(True)\n",
        "    print(\"mean reward = %.3f, threshold=%.3f\" % (mean_reward, threshold))\n",
        "    plt.figure(figsize=[8, 4])\n",
        "    plt.subplot(1, 2, 1)\n",
        "    plt.plot(list(zip(*log))[0], label='Mean rewards')\n",
        "    plt.plot(list(zip(*log))[1], label='Reward thresholds')\n",
        "    plt.legend()\n",
        "    plt.grid()\n",
        "\n",
        "    plt.subplot(1, 2, 2)\n",
        "    plt.hist(rewards_batch, range=reward_range)\n",
        "    plt.vlines([np.percentile(rewards_batch, percentile)],\n",
        "               [0], [100], label=\"percentile\", color='red')\n",
        "    plt.legend()\n",
        "    plt.grid()\n",
        "\n",
        "    plt.show()"
      ],
      "metadata": {
        "id": "Oop-BaU7jJ8L"
      },
      "execution_count": 8,
      "outputs": []
    },
    {
      "cell_type": "code",
      "source": [
        "n_sessions = 250\n",
        "percentile = 50\n",
        "log = []\n",
        "\n",
        "for i in range(100):\n",
        "    # generate new sessions\n",
        "    sessions = [generate_session(env, agent, t_max=1000) for _ in range(n_sessions)]\n",
        "\n",
        "    states_batch, actions_batch, rewards_batch = map(np.array, zip(*sessions))\n",
        "\n",
        "    elite_states, elite_actions = select_elites(states_batch, actions_batch, rewards_batch, percentile = percentile)\n",
        "\n",
        "    agent.partial_fit(elite_states, elite_actions)   \n",
        "\n",
        "    show_progress(rewards_batch, log, percentile, reward_range=[0, np.max(rewards_batch)])\n",
        "\n",
        "    if np.mean(rewards_batch) > 190:\n",
        "        print(\"You Win! You may stop training now via KeyboardInterrupt.\")"
      ],
      "metadata": {
        "colab": {
          "base_uri": "https://localhost:8080/",
          "height": 701
        },
        "id": "XdBxyLogjLLQ",
        "outputId": "de0cfe07-ea48-4650-e70e-5b041e8ef3ed"
      },
      "execution_count": 11,
      "outputs": [
        {
          "output_type": "stream",
          "name": "stdout",
          "text": [
            "mean reward = 216.364, threshold=209.000\n"
          ]
        },
        {
          "output_type": "display_data",
          "data": {
            "text/plain": [
              "<Figure size 576x288 with 2 Axes>"
            ],
            "image/png": "[encoded data removed]"
          },
          "metadata": {
            "needs_background": "light"
          }
        },
        {
          "output_type": "stream",
          "name": "stdout",
          "text": [
            "You Win! You may stop training now via KeyboardInterrupt.\n"
          ]
        },
        {
          "output_type": "error",
          "ename": "KeyboardInterrupt",
          "evalue": "ignored",
          "traceback": [
            "\u001b[0;31m---------------------------------------------------------------------------\u001b[0m",
            "\u001b[0;31mKeyboardInterrupt\u001b[0m                         Traceback (most recent call last)",
            "\u001b[0;32m<ipython-input-11-f88753dc935e>\u001b[0m in \u001b[0;36m<module>\u001b[0;34m\u001b[0m\n\u001b[1;32m      5\u001b[0m \u001b[0;32mfor\u001b[0m \u001b[0mi\u001b[0m \u001b[0;32min\u001b[0m \u001b[0mrange\u001b[0m\u001b[0;34m(\u001b[0m\u001b[0;36m100\u001b[0m\u001b[0;34m)\u001b[0m\u001b[0;34m:\u001b[0m\u001b[0;34m\u001b[0m\u001b[0;34m\u001b[0m\u001b[0m\n\u001b[1;32m      6\u001b[0m     \u001b[0;31m# generate new sessions\u001b[0m\u001b[0;34m\u001b[0m\u001b[0;34m\u001b[0m\u001b[0;34m\u001b[0m\u001b[0m\n\u001b[0;32m----> 7\u001b[0;31m     \u001b[0msessions\u001b[0m \u001b[0;34m=\u001b[0m \u001b[0;34m[\u001b[0m\u001b[0mgenerate_session\u001b[0m\u001b[0;34m(\u001b[0m\u001b[0menv\u001b[0m\u001b[0;34m,\u001b[0m \u001b[0magent\u001b[0m\u001b[0;34m,\u001b[0m \u001b[0mt_max\u001b[0m\u001b[0;34m=\u001b[0m\u001b[0;36m1000\u001b[0m\u001b[0;34m)\u001b[0m \u001b[0;32mfor\u001b[0m \u001b[0m_\u001b[0m \u001b[0;32min\u001b[0m \u001b[0mrange\u001b[0m\u001b[0;34m(\u001b[0m\u001b[0mn_sessions\u001b[0m\u001b[0;34m)\u001b[0m\u001b[0;34m]\u001b[0m\u001b[0;34m\u001b[0m\u001b[0;34m\u001b[0m\u001b[0m\n\u001b[0m\u001b[1;32m      8\u001b[0m \u001b[0;34m\u001b[0m\u001b[0m\n\u001b[1;32m      9\u001b[0m     \u001b[0mstates_batch\u001b[0m\u001b[0;34m,\u001b[0m \u001b[0mactions_batch\u001b[0m\u001b[0;34m,\u001b[0m \u001b[0mrewards_batch\u001b[0m \u001b[0;34m=\u001b[0m \u001b[0mmap\u001b[0m\u001b[0;34m(\u001b[0m\u001b[0mnp\u001b[0m\u001b[0;34m.\u001b[0m\u001b[0marray\u001b[0m\u001b[0;34m,\u001b[0m \u001b[0mzip\u001b[0m\u001b[0;34m(\u001b[0m\u001b[0;34m*\u001b[0m\u001b[0msessions\u001b[0m\u001b[0;34m)\u001b[0m\u001b[0;34m)\u001b[0m\u001b[0;34m\u001b[0m\u001b[0;34m\u001b[0m\u001b[0m\n",
            "\u001b[0;32m<ipython-input-11-f88753dc935e>\u001b[0m in \u001b[0;36m<listcomp>\u001b[0;34m(.0)\u001b[0m\n\u001b[1;32m      5\u001b[0m \u001b[0;32mfor\u001b[0m \u001b[0mi\u001b[0m \u001b[0;32min\u001b[0m \u001b[0mrange\u001b[0m\u001b[0;34m(\u001b[0m\u001b[0;36m100\u001b[0m\u001b[0;34m)\u001b[0m\u001b[0;34m:\u001b[0m\u001b[0;34m\u001b[0m\u001b[0;34m\u001b[0m\u001b[0m\n\u001b[1;32m      6\u001b[0m     \u001b[0;31m# generate new sessions\u001b[0m\u001b[0;34m\u001b[0m\u001b[0;34m\u001b[0m\u001b[0;34m\u001b[0m\u001b[0m\n\u001b[0;32m----> 7\u001b[0;31m     \u001b[0msessions\u001b[0m \u001b[0;34m=\u001b[0m \u001b[0;34m[\u001b[0m\u001b[0mgenerate_session\u001b[0m\u001b[0;34m(\u001b[0m\u001b[0menv\u001b[0m\u001b[0;34m,\u001b[0m \u001b[0magent\u001b[0m\u001b[0;34m,\u001b[0m \u001b[0mt_max\u001b[0m\u001b[0;34m=\u001b[0m\u001b[0;36m1000\u001b[0m\u001b[0;34m)\u001b[0m \u001b[0;32mfor\u001b[0m \u001b[0m_\u001b[0m \u001b[0;32min\u001b[0m \u001b[0mrange\u001b[0m\u001b[0;34m(\u001b[0m\u001b[0mn_sessions\u001b[0m\u001b[0;34m)\u001b[0m\u001b[0;34m]\u001b[0m\u001b[0;34m\u001b[0m\u001b[0;34m\u001b[0m\u001b[0m\n\u001b[0m\u001b[1;32m      8\u001b[0m \u001b[0;34m\u001b[0m\u001b[0m\n\u001b[1;32m      9\u001b[0m     \u001b[0mstates_batch\u001b[0m\u001b[0;34m,\u001b[0m \u001b[0mactions_batch\u001b[0m\u001b[0;34m,\u001b[0m \u001b[0mrewards_batch\u001b[0m \u001b[0;34m=\u001b[0m \u001b[0mmap\u001b[0m\u001b[0;34m(\u001b[0m\u001b[0mnp\u001b[0m\u001b[0;34m.\u001b[0m\u001b[0marray\u001b[0m\u001b[0;34m,\u001b[0m \u001b[0mzip\u001b[0m\u001b[0;34m(\u001b[0m\u001b[0;34m*\u001b[0m\u001b[0msessions\u001b[0m\u001b[0;34m)\u001b[0m\u001b[0;34m)\u001b[0m\u001b[0;34m\u001b[0m\u001b[0;34m\u001b[0m\u001b[0m\n",
            "\u001b[0;32m<ipython-input-6-b921aa0e3032>\u001b[0m in \u001b[0;36mgenerate_session\u001b[0;34m(env, agent, t_max)\u001b[0m\n\u001b[1;32m     18\u001b[0m         \u001b[0;31m# use the probabilities you predicted to pick an action\u001b[0m\u001b[0;34m\u001b[0m\u001b[0;34m\u001b[0m\u001b[0;34m\u001b[0m\u001b[0m\n\u001b[1;32m     19\u001b[0m         \u001b[0;31m# sample proportionally to the probabilities, don't just take the most likely action\u001b[0m\u001b[0;34m\u001b[0m\u001b[0;34m\u001b[0m\u001b[0;34m\u001b[0m\u001b[0m\n\u001b[0;32m---> 20\u001b[0;31m         \u001b[0ma\u001b[0m \u001b[0;34m=\u001b[0m \u001b[0mint\u001b[0m\u001b[0;34m(\u001b[0m\u001b[0mnp\u001b[0m\u001b[0;34m.\u001b[0m\u001b[0mrandom\u001b[0m\u001b[0;34m.\u001b[0m\u001b[0mchoice\u001b[0m\u001b[0;34m(\u001b[0m\u001b[0mn_actions\u001b[0m\u001b[0;34m,\u001b[0m \u001b[0;36m1\u001b[0m\u001b[0;34m,\u001b[0m \u001b[0mp\u001b[0m \u001b[0;34m=\u001b[0m \u001b[0mprobs\u001b[0m\u001b[0;34m)\u001b[0m\u001b[0;34m)\u001b[0m\u001b[0;34m\u001b[0m\u001b[0;34m\u001b[0m\u001b[0m\n\u001b[0m\u001b[1;32m     21\u001b[0m         \u001b[0;31m# ^-- hint: try np.random.choice\u001b[0m\u001b[0;34m\u001b[0m\u001b[0;34m\u001b[0m\u001b[0;34m\u001b[0m\u001b[0m\n\u001b[1;32m     22\u001b[0m \u001b[0;34m\u001b[0m\u001b[0m\n",
            "\u001b[0;32mmtrand.pyx\u001b[0m in \u001b[0;36mnumpy.random.mtrand.RandomState.choice\u001b[0;34m()\u001b[0m\n",
            "\u001b[0;32m/usr/local/lib/python3.8/dist-packages/numpy/core/getlimits.py\u001b[0m in \u001b[0;36m__new__\u001b[0;34m(cls, dtype)\u001b[0m\n\u001b[1;32m    387\u001b[0m             \u001b[0mdtype\u001b[0m \u001b[0;34m=\u001b[0m \u001b[0mnumeric\u001b[0m\u001b[0;34m.\u001b[0m\u001b[0mdtype\u001b[0m\u001b[0;34m(\u001b[0m\u001b[0mtype\u001b[0m\u001b[0;34m(\u001b[0m\u001b[0mdtype\u001b[0m\u001b[0;34m)\u001b[0m\u001b[0;34m)\u001b[0m\u001b[0;34m\u001b[0m\u001b[0;34m\u001b[0m\u001b[0m\n\u001b[1;32m    388\u001b[0m \u001b[0;34m\u001b[0m\u001b[0m\n\u001b[0;32m--> 389\u001b[0;31m         \u001b[0mobj\u001b[0m \u001b[0;34m=\u001b[0m \u001b[0mcls\u001b[0m\u001b[0;34m.\u001b[0m\u001b[0m_finfo_cache\u001b[0m\u001b[0;34m.\u001b[0m\u001b[0mget\u001b[0m\u001b[0;34m(\u001b[0m\u001b[0mdtype\u001b[0m\u001b[0;34m,\u001b[0m \u001b[0;32mNone\u001b[0m\u001b[0;34m)\u001b[0m\u001b[0;34m\u001b[0m\u001b[0;34m\u001b[0m\u001b[0m\n\u001b[0m\u001b[1;32m    390\u001b[0m         \u001b[0;32mif\u001b[0m \u001b[0mobj\u001b[0m \u001b[0;32mis\u001b[0m \u001b[0;32mnot\u001b[0m \u001b[0;32mNone\u001b[0m\u001b[0;34m:\u001b[0m\u001b[0;34m\u001b[0m\u001b[0;34m\u001b[0m\u001b[0m\n\u001b[1;32m    391\u001b[0m             \u001b[0;32mreturn\u001b[0m \u001b[0mobj\u001b[0m\u001b[0;34m\u001b[0m\u001b[0;34m\u001b[0m\u001b[0m\n",
            "\u001b[0;31mKeyboardInterrupt\u001b[0m: "
          ]
        }
      ]
    },
    {
      "cell_type": "code",
      "source": [
        "# Record sessions\n",
        "\n",
        "import gym.wrappers\n",
        "\n",
        "with gym.wrappers.Monitor(gym.make(\"CartPole-v0\"), directory=\"videos\", force=True) as env_monitor:\n",
        "    sessions = [generate_session(env_monitor, agent) for _ in range(1500)]"
      ],
      "metadata": {
        "id": "KiI1qXFrkzP3"
      },
      "execution_count": 12,
      "outputs": []
    },
    {
      "cell_type": "code",
      "source": [
        "# Show video. This may not work in some setups. If it doesn't\n",
        "# work for you, you can download the videos and view them locally.\n",
        "\n",
        "from pathlib import Path\n",
        "from base64 import b64encode\n",
        "from IPython.display import HTML\n",
        "\n",
        "video_paths = sorted([s for s in Path('videos').iterdir() if s.suffix == '.mp4'])\n",
        "video_path = video_paths[0]  # You can also try other indices\n",
        "\n",
        "if 'google.colab' in sys.modules:\n",
        "    # https://stackoverflow.com/a/57378660/1214547\n",
        "    with video_path.open('rb') as fp:\n",
        "        mp4 = fp.read()\n",
        "    data_url = 'data:video/mp4;base64,' + b64encode(mp4).decode()\n",
        "else:\n",
        "    data_url = str(video_path)\n",
        "\n",
        "HTML(\"\"\"\n",
        "<video width=\"640\" height=\"480\" controls>\n",
        "  <source src=\"{}\" type=\"video/mp4\">\n",
        "</video>\n",
        "\"\"\".format(data_url))"
      ],
      "metadata": {
        "colab": {
          "base_uri": "https://localhost:8080/",
          "height": 501
        },
        "id": "Sn1PON1hk0Hl",
        "outputId": "6111110b-003d-433a-874f-b3b4f3914cd1"
      },
      "execution_count": 17,
      "outputs": [
        {
          "output_type": "execute_result",
          "data": {
            "text/plain": [
              "<IPython.core.display.HTML object>"
            ],
            "text/html": [
              "\n",
              "<video width=\"640\" height=\"480\" controls>\n",
              "  <source src=\"data:video/mp4;base64,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\" type=\"video/mp4\">\n",
              "</video>\n"
            ]
          },
          "metadata": {},
          "execution_count": 17
        }
      ]
    }
  ]
}